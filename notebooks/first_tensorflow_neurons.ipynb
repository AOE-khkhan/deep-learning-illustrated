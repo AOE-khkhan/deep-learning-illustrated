{
 "cells": [
  {
   "cell_type": "markdown",
   "metadata": {},
   "source": [
    "# First TensorFlow Neurons"
   ]
  },
  {
   "cell_type": "markdown",
   "metadata": {},
   "source": [
    "#### Load dependencies"
   ]
  },
  {
   "cell_type": "code",
   "execution_count": 1,
   "metadata": {},
   "outputs": [],
   "source": [
    "import numpy as np\n",
    "import tensorflow as tf\n",
    "import matplotlib.pyplot as plt"
   ]
  },
  {
   "cell_type": "markdown",
   "metadata": {},
   "source": [
    "#### Set number of neurons"
   ]
  },
  {
   "cell_type": "code",
   "execution_count": 2,
   "metadata": {},
   "outputs": [],
   "source": [
    "n_input = 784\n",
    "n_dense = 256"
   ]
  },
  {
   "cell_type": "markdown",
   "metadata": {},
   "source": [
    "#### Define placeholder Tensor for simulated MNIST digits"
   ]
  },
  {
   "cell_type": "code",
   "execution_count": 3,
   "metadata": {},
   "outputs": [],
   "source": [
    "x = tf.placeholder(tf.float32, [None, n_input])"
   ]
  },
  {
   "cell_type": "markdown",
   "metadata": {},
   "source": [
    "#### Create and initialize Variable Tensors for neuron biases `b` and weight matrix `W`"
   ]
  },
  {
   "cell_type": "code",
   "execution_count": 4,
   "metadata": {},
   "outputs": [],
   "source": [
    "b = tf.Variable(tf.zeros([n_dense]))\n",
    "W = tf.Variable(tf.random_normal([n_input, n_dense])) \n",
    "# W = tf.get_variable('W', [n_input, n_dense], \n",
    "#                     initializer=tf.contrib.layers.xavier_initializer())"
   ]
  },
  {
   "cell_type": "markdown",
   "metadata": {},
   "source": [
    "#### Design the computational graph"
   ]
  },
  {
   "cell_type": "code",
   "execution_count": 5,
   "metadata": {},
   "outputs": [],
   "source": [
    "z = tf.add(tf.matmul(x, W), b)\n",
    "a = tf.sigmoid(z) # can also try tf.tanh(z) and tf.nn.relu(z)"
   ]
  },
  {
   "cell_type": "markdown",
   "metadata": {},
   "source": [
    "#### Create op for variable initialization"
   ]
  },
  {
   "cell_type": "code",
   "execution_count": 6,
   "metadata": {},
   "outputs": [],
   "source": [
    "initializer_op = tf.global_variables_initializer()"
   ]
  },
  {
   "cell_type": "markdown",
   "metadata": {},
   "source": [
    "#### Execute the graph in a session"
   ]
  },
  {
   "cell_type": "code",
   "execution_count": 7,
   "metadata": {},
   "outputs": [],
   "source": [
    "with tf.Session() as session:\n",
    "    session.run(initializer_op)\n",
    "    \n",
    "    layer_output = session.run(a, {x: np.random.random([1, n_input])})"
   ]
  },
  {
   "cell_type": "code",
   "execution_count": 8,
   "metadata": {},
   "outputs": [
    {
     "data": {
      "image/png": "[encoded data removed]",
      "text/plain": [
       "<matplotlib.figure.Figure at 0x7f209605ce80>"
      ]
     },
     "metadata": {},
     "output_type": "display_data"
    }
   ],
   "source": [
    "_ = plt.hist(np.transpose(layer_output))"
   ]
  },
  {
   "cell_type": "code",
   "execution_count": 9,
   "metadata": {},
   "outputs": [
    {
     "data": {
      "text/plain": [
       "array([[9.81782470e-03, 9.93196964e-01, 9.99764025e-01, 8.32038582e-04,\n",
       "        5.92501118e-11, 1.00000000e+00, 3.11417168e-08, 9.01468005e-03,\n",
       "        4.33944017e-02, 9.93680835e-01, 2.18536909e-04, 2.16085301e-13,\n",
       "        2.44651642e-03, 9.99938965e-01, 1.03310414e-03, 2.13671429e-03,\n",
       "        1.63458269e-09, 1.09016706e-14, 2.12982684e-07, 9.99586999e-01,\n",
       "        2.17120123e-05, 9.99780238e-01, 1.00000000e+00, 1.00000000e+00,\n",
       "        9.99992490e-01, 9.99993563e-01, 9.83343780e-01, 5.29269073e-06,\n",
       "        6.54086888e-01, 1.39876499e-06, 2.93328702e-01, 9.97978270e-01,\n",
       "        1.00000000e+00, 9.98718023e-01, 9.98981416e-01, 7.22720961e-06,\n",
       "        9.99999523e-01, 7.85726115e-06, 2.97269318e-02, 9.99995232e-01,\n",
       "        9.99999881e-01, 8.93269945e-18, 9.89256561e-01, 1.00000000e+00,\n",
       "        6.04806125e-01, 2.29544472e-08, 9.96014714e-01, 9.99999881e-01,\n",
       "        1.00000000e+00, 5.43138504e-01, 9.99999881e-01, 9.99995112e-01,\n",
       "        4.24163872e-12, 5.17170876e-04, 2.61317134e-01, 1.00000000e+00,\n",
       "        7.24769115e-01, 5.37950825e-03, 9.81006503e-01, 1.41111717e-01,\n",
       "        2.19048001e-04, 1.00000000e+00, 9.43205357e-01, 1.00000000e+00,\n",
       "        1.85662084e-05, 1.07978890e-03, 1.46110554e-13, 9.99773204e-01,\n",
       "        9.98789847e-01, 9.99997854e-01, 9.28896725e-01, 9.53473558e-04,\n",
       "        9.36013281e-01, 9.99998093e-01, 9.99984622e-01, 1.83735494e-07,\n",
       "        2.78320833e-04, 2.24213570e-01, 9.99997020e-01, 1.86970226e-07,\n",
       "        2.40341651e-05, 9.98799920e-01, 1.00000000e+00, 9.99853373e-01,\n",
       "        1.82639960e-05, 9.99918818e-01, 3.69793815e-06, 5.40529611e-04,\n",
       "        1.06502976e-05, 9.99995351e-01, 6.03681981e-13, 9.99789178e-01,\n",
       "        6.13483507e-03, 1.04720529e-12, 1.00000000e+00, 1.00000000e+00,\n",
       "        3.75350937e-02, 8.56137156e-01, 7.00666964e-01, 4.91729812e-13,\n",
       "        9.28571808e-06, 1.58008348e-04, 3.91616965e-07, 9.99999642e-01,\n",
       "        6.78725348e-12, 9.56702292e-01, 1.00000000e+00, 9.99999166e-01,\n",
       "        5.14545318e-05, 1.00879080e-03, 9.99999881e-01, 2.25049327e-04,\n",
       "        1.00000000e+00, 6.48194618e-05, 2.87941830e-08, 6.64290249e-01,\n",
       "        6.86939014e-03, 1.00000000e+00, 9.94696282e-04, 1.53275498e-03,\n",
       "        3.01151566e-08, 2.33765109e-04, 9.99995708e-01, 1.00000000e+00,\n",
       "        7.12348919e-05, 1.02207554e-03, 1.00000000e+00, 3.53284321e-07,\n",
       "        9.99999762e-01, 1.00000000e+00, 2.62865086e-07, 9.36389808e-03,\n",
       "        2.62452096e-01, 1.00000000e+00, 1.05463652e-04, 1.00000000e+00,\n",
       "        9.95395601e-01, 9.99536037e-01, 9.98145223e-01, 2.98661235e-10,\n",
       "        2.47219518e-01, 9.99991894e-01, 6.58314668e-17, 8.87904286e-01,\n",
       "        3.62993615e-06, 1.00000000e+00, 5.72121935e-05, 2.32393034e-02,\n",
       "        5.11627734e-01, 1.06390345e-08, 1.00000000e+00, 2.15299522e-07,\n",
       "        2.46236190e-01, 1.59934233e-16, 9.99248326e-01, 9.99983907e-01,\n",
       "        2.56216945e-03, 9.55308974e-01, 9.99999881e-01, 9.94862735e-01,\n",
       "        9.99966741e-01, 1.96194146e-12, 1.21070501e-10, 2.87697389e-04,\n",
       "        9.99999642e-01, 9.99805629e-01, 9.97635603e-01, 9.98656154e-01,\n",
       "        1.00000000e+00, 6.20912611e-02, 1.00000000e+00, 9.91448700e-01,\n",
       "        2.36626409e-16, 9.99541163e-01, 1.00000000e+00, 4.70372252e-05,\n",
       "        1.00000000e+00, 7.88779020e-01, 8.46337061e-05, 4.03507479e-12,\n",
       "        9.99991417e-01, 9.99999881e-01, 2.72184890e-13, 1.00000000e+00,\n",
       "        3.64659101e-01, 1.53132582e-08, 2.26034626e-05, 9.96781707e-01,\n",
       "        8.18076253e-01, 9.99961138e-01, 9.99999881e-01, 9.99981284e-01,\n",
       "        2.76153922e-01, 8.51291406e-06, 9.92447257e-01, 9.99999881e-01,\n",
       "        9.95662391e-01, 1.97251552e-06, 2.01345802e-06, 9.51899886e-01,\n",
       "        2.97344395e-05, 5.04533112e-01, 9.99987841e-01, 8.46151670e-06,\n",
       "        5.16066374e-03, 2.31268581e-11, 9.99972105e-01, 4.76298854e-04,\n",
       "        9.99913216e-01, 7.79167265e-02, 2.61990452e-09, 9.99999523e-01,\n",
       "        1.00000000e+00, 2.93193098e-05, 9.99995470e-01, 9.99931812e-01,\n",
       "        9.99964952e-01, 1.00000000e+00, 8.66643131e-01, 9.99803483e-01,\n",
       "        2.35731363e-08, 5.07981591e-02, 9.99953747e-01, 1.00224083e-13,\n",
       "        1.00000000e+00, 2.07651272e-01, 1.46338521e-02, 9.99999404e-01,\n",
       "        9.86622870e-01, 9.98906136e-01, 4.05899565e-16, 3.04341596e-02,\n",
       "        3.50061597e-08, 2.86688388e-04, 4.84999218e-05, 3.61113553e-03,\n",
       "        3.03485900e-01, 1.00000000e+00, 9.17795658e-01, 9.99739945e-01,\n",
       "        9.99997497e-01, 1.24880639e-09, 9.99939442e-01, 9.99999642e-01,\n",
       "        1.56429181e-08, 9.76167321e-01, 9.41646099e-01, 9.99999881e-01,\n",
       "        9.99961376e-01, 2.16567875e-11, 6.18762241e-09, 9.99998093e-01,\n",
       "        3.60733393e-04, 9.99976158e-01, 5.33519924e-01, 4.59390879e-01]],\n",
       "      dtype=float32)"
      ]
     },
     "execution_count": 9,
     "metadata": {},
     "output_type": "execute_result"
    }
   ],
   "source": [
    "layer_output"
   ]
  },
  {
   "cell_type": "raw",
   "metadata": {
    "collapsed": true
   },
   "source": []
  }
 ],
 "metadata": {
  "kernelspec": {
   "display_name": "Python 3",
   "language": "python",
   "name": "python3"
  },
  "language_info": {
   "codemirror_mode": {
    "name": "ipython",
    "version": 3
   },
   "file_extension": ".py",
   "mimetype": "text/x-python",
   "name": "python",
   "nbconvert_exporter": "python",
   "pygments_lexer": "ipython3",
   "version": "3.6.5"
  }
 },
 "nbformat": 4,
 "nbformat_minor": 2
}
