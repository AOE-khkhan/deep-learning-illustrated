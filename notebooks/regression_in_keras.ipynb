{
 "cells": [
  {
   "cell_type": "markdown",
   "metadata": {},
   "source": [
    "# Regression Example in Keras\n",
    "Predicting house prices in Boston, Massachusetts "
   ]
  },
  {
   "cell_type": "markdown",
   "metadata": {},
   "source": [
    "#### Load dependencies"
   ]
  },
  {
   "cell_type": "code",
   "execution_count": 1,
   "metadata": {},
   "outputs": [
    {
     "name": "stderr",
     "output_type": "stream",
     "text": [
      "Using TensorFlow backend.\n"
     ]
    }
   ],
   "source": [
    "from keras.datasets import boston_housing\n",
    "from keras.models import Sequential\n",
    "from keras.layers import Dense\n",
    "from keras.layers import Dropout \n",
    "from keras.layers.normalization import BatchNormalization "
   ]
  },
  {
   "cell_type": "markdown",
   "metadata": {},
   "source": [
    "#### Load data"
   ]
  },
  {
   "cell_type": "code",
   "execution_count": 2,
   "metadata": {},
   "outputs": [],
   "source": [
    "(x_train, y_train), (x_valid, y_valid) = boston_housing.load_data()"
   ]
  },
  {
   "cell_type": "markdown",
   "metadata": {},
   "source": [
    "#### Design neural network architecture"
   ]
  },
  {
   "cell_type": "code",
   "execution_count": 3,
   "metadata": {},
   "outputs": [],
   "source": [
    "model = Sequential()\n",
    "\n",
    "model.add(Dense(32, input_dim=13, activation='relu'))\n",
    "model.add(BatchNormalization())\n",
    "\n",
    "model.add(Dense(16, activation='relu'))\n",
    "model.add(BatchNormalization())\n",
    "model.add(Dropout(0.2))\n",
    "\n",
    "model.add(Dense(1, activation='linear'))"
   ]
  },
  {
   "cell_type": "code",
   "execution_count": 4,
   "metadata": {},
   "outputs": [
    {
     "name": "stdout",
     "output_type": "stream",
     "text": [
      "_________________________________________________________________\n",
      "Layer (type)                 Output Shape              Param #   \n",
      "=================================================================\n",
      "dense_1 (Dense)              (None, 32)                448       \n",
      "_________________________________________________________________\n",
      "batch_normalization_1 (Batch (None, 32)                128       \n",
      "_________________________________________________________________\n",
      "dense_2 (Dense)              (None, 16)                528       \n",
      "_________________________________________________________________\n",
      "batch_normalization_2 (Batch (None, 16)                64        \n",
      "_________________________________________________________________\n",
      "dropout_1 (Dropout)          (None, 16)                0         \n",
      "_________________________________________________________________\n",
      "dense_3 (Dense)              (None, 1)                 17        \n",
      "=================================================================\n",
      "Total params: 1,185\n",
      "Trainable params: 1,089\n",
      "Non-trainable params: 96\n",
      "_________________________________________________________________\n"
     ]
    }
   ],
   "source": [
    "model.summary()"
   ]
  },
  {
   "cell_type": "markdown",
   "metadata": {},
   "source": [
    "#### Configure Model"
   ]
  },
  {
   "cell_type": "code",
   "execution_count": 5,
   "metadata": {},
   "outputs": [],
   "source": [
    "model.compile(loss='mean_squared_error', optimizer='adam')"
   ]
  },
  {
   "cell_type": "markdown",
   "metadata": {},
   "source": [
    "#### Train!"
   ]
  },
  {
   "cell_type": "code",
   "execution_count": 6,
   "metadata": {},
   "outputs": [
    {
     "name": "stdout",
     "output_type": "stream",
     "text": [
      "Train on 404 samples, validate on 102 samples\n",
      "Epoch 1/100\n",
      "404/404 [==============================] - 1s 1ms/step - loss: 581.3221 - val_loss: 571.9504\n",
      "Epoch 2/100\n",
      "404/404 [==============================] - 0s 259us/step - loss: 540.4685 - val_loss: 550.2930\n",
      "Epoch 3/100\n",
      "404/404 [==============================] - 0s 260us/step - loss: 502.1678 - val_loss: 509.1450\n",
      "Epoch 4/100\n",
      "404/404 [==============================] - 0s 253us/step - loss: 463.8437 - val_loss: 443.1316\n",
      "Epoch 5/100\n",
      "404/404 [==============================] - 0s 252us/step - loss: 419.7013 - val_loss: 352.7440\n",
      "Epoch 6/100\n",
      "404/404 [==============================] - 0s 261us/step - loss: 355.2942 - val_loss: 263.6528\n",
      "Epoch 7/100\n",
      "404/404 [==============================] - 0s 251us/step - loss: 307.9287 - val_loss: 207.7494\n",
      "Epoch 8/100\n",
      "404/404 [==============================] - 0s 265us/step - loss: 246.6946 - val_loss: 206.6719\n",
      "Epoch 9/100\n",
      "404/404 [==============================] - 0s 261us/step - loss: 194.6936 - val_loss: 128.1139\n",
      "Epoch 10/100\n",
      "404/404 [==============================] - 0s 264us/step - loss: 154.2609 - val_loss: 112.9892\n",
      "Epoch 11/100\n",
      "404/404 [==============================] - 0s 254us/step - loss: 127.5380 - val_loss: 104.6746\n",
      "Epoch 12/100\n",
      "404/404 [==============================] - 0s 260us/step - loss: 86.3631 - val_loss: 110.2548\n",
      "Epoch 13/100\n",
      "404/404 [==============================] - 0s 267us/step - loss: 81.0812 - val_loss: 72.2209\n",
      "Epoch 14/100\n",
      "404/404 [==============================] - 0s 257us/step - loss: 65.7237 - val_loss: 64.7288\n",
      "Epoch 15/100\n",
      "404/404 [==============================] - 0s 260us/step - loss: 60.3934 - val_loss: 29.3159\n",
      "Epoch 16/100\n",
      "404/404 [==============================] - 0s 265us/step - loss: 61.5661 - val_loss: 31.1686\n",
      "Epoch 17/100\n",
      "404/404 [==============================] - 0s 251us/step - loss: 47.5711 - val_loss: 34.3748\n",
      "Epoch 18/100\n",
      "404/404 [==============================] - 0s 260us/step - loss: 55.5297 - val_loss: 42.3772\n",
      "Epoch 19/100\n",
      "404/404 [==============================] - 0s 253us/step - loss: 52.2795 - val_loss: 38.1290\n",
      "Epoch 20/100\n",
      "404/404 [==============================] - 0s 256us/step - loss: 49.4533 - val_loss: 45.5677\n",
      "Epoch 21/100\n",
      "404/404 [==============================] - 0s 249us/step - loss: 52.3147 - val_loss: 54.5961\n",
      "Epoch 22/100\n",
      "404/404 [==============================] - 0s 254us/step - loss: 55.7132 - val_loss: 36.5291\n",
      "Epoch 23/100\n",
      "404/404 [==============================] - 0s 251us/step - loss: 52.7773 - val_loss: 31.7186\n",
      "Epoch 24/100\n",
      "404/404 [==============================] - 0s 255us/step - loss: 49.8297 - val_loss: 37.0107\n",
      "Epoch 25/100\n",
      "404/404 [==============================] - 0s 256us/step - loss: 54.9226 - val_loss: 28.3872\n",
      "Epoch 26/100\n",
      "404/404 [==============================] - 0s 242us/step - loss: 49.5756 - val_loss: 30.2044\n",
      "Epoch 27/100\n",
      "404/404 [==============================] - 0s 250us/step - loss: 54.4906 - val_loss: 30.3696\n",
      "Epoch 28/100\n",
      "404/404 [==============================] - 0s 255us/step - loss: 53.4147 - val_loss: 36.5514\n",
      "Epoch 29/100\n",
      "404/404 [==============================] - 0s 253us/step - loss: 52.8140 - val_loss: 30.3048\n",
      "Epoch 30/100\n",
      "404/404 [==============================] - 0s 250us/step - loss: 47.8769 - val_loss: 33.1051\n",
      "Epoch 31/100\n",
      "404/404 [==============================] - 0s 257us/step - loss: 54.8519 - val_loss: 37.0961\n",
      "Epoch 32/100\n",
      "404/404 [==============================] - 0s 254us/step - loss: 48.6856 - val_loss: 27.5763\n",
      "Epoch 33/100\n",
      "404/404 [==============================] - 0s 264us/step - loss: 54.6078 - val_loss: 49.6033\n",
      "Epoch 34/100\n",
      "404/404 [==============================] - 0s 248us/step - loss: 46.8711 - val_loss: 26.5999\n",
      "Epoch 35/100\n",
      "404/404 [==============================] - 0s 250us/step - loss: 54.7412 - val_loss: 29.8234\n",
      "Epoch 36/100\n",
      "404/404 [==============================] - 0s 254us/step - loss: 51.6763 - val_loss: 27.0100\n",
      "Epoch 37/100\n",
      "404/404 [==============================] - 0s 255us/step - loss: 46.9271 - val_loss: 41.7484\n",
      "Epoch 38/100\n",
      "404/404 [==============================] - 0s 263us/step - loss: 48.9789 - val_loss: 31.4366\n",
      "Epoch 39/100\n",
      "404/404 [==============================] - 0s 263us/step - loss: 54.8352 - val_loss: 38.9635\n",
      "Epoch 40/100\n",
      "404/404 [==============================] - 0s 255us/step - loss: 51.6348 - val_loss: 38.6827\n",
      "Epoch 41/100\n",
      "404/404 [==============================] - 0s 251us/step - loss: 50.9209 - val_loss: 37.9630\n",
      "Epoch 42/100\n",
      "404/404 [==============================] - 0s 253us/step - loss: 49.0721 - val_loss: 41.2744\n",
      "Epoch 43/100\n",
      "404/404 [==============================] - 0s 249us/step - loss: 48.3568 - val_loss: 26.0893\n",
      "Epoch 44/100\n",
      "404/404 [==============================] - 0s 257us/step - loss: 42.9060 - val_loss: 29.6519\n",
      "Epoch 45/100\n",
      "404/404 [==============================] - 0s 257us/step - loss: 45.3791 - val_loss: 34.2215\n",
      "Epoch 46/100\n",
      "404/404 [==============================] - 0s 250us/step - loss: 49.8408 - val_loss: 26.8624\n",
      "Epoch 47/100\n",
      "404/404 [==============================] - 0s 252us/step - loss: 50.7866 - val_loss: 36.0152\n",
      "Epoch 48/100\n",
      "404/404 [==============================] - 0s 255us/step - loss: 50.5931 - val_loss: 32.7259\n",
      "Epoch 49/100\n",
      "404/404 [==============================] - 0s 254us/step - loss: 49.2209 - val_loss: 27.2033\n",
      "Epoch 50/100\n",
      "404/404 [==============================] - 0s 251us/step - loss: 49.6838 - val_loss: 37.6356\n",
      "Epoch 51/100\n",
      "404/404 [==============================] - 0s 259us/step - loss: 43.2239 - val_loss: 37.5681\n",
      "Epoch 52/100\n",
      "404/404 [==============================] - 0s 254us/step - loss: 48.2268 - val_loss: 25.3049\n",
      "Epoch 53/100\n",
      "404/404 [==============================] - 0s 253us/step - loss: 40.5103 - val_loss: 25.3974\n",
      "Epoch 54/100\n",
      "404/404 [==============================] - 0s 255us/step - loss: 45.1897 - val_loss: 32.7387\n",
      "Epoch 55/100\n",
      "404/404 [==============================] - 0s 251us/step - loss: 51.5246 - val_loss: 31.2090\n",
      "Epoch 56/100\n",
      "404/404 [==============================] - 0s 256us/step - loss: 46.5428 - val_loss: 38.2565\n",
      "Epoch 57/100\n",
      "404/404 [==============================] - 0s 252us/step - loss: 48.7549 - val_loss: 23.6097\n",
      "Epoch 58/100\n",
      "404/404 [==============================] - 0s 267us/step - loss: 46.8892 - val_loss: 30.0440\n",
      "Epoch 59/100\n",
      "404/404 [==============================] - 0s 255us/step - loss: 47.1685 - val_loss: 27.4349\n",
      "Epoch 60/100\n",
      "404/404 [==============================] - 0s 253us/step - loss: 53.3774 - val_loss: 23.9575\n",
      "Epoch 61/100\n",
      "404/404 [==============================] - 0s 254us/step - loss: 49.2222 - val_loss: 25.1124\n",
      "Epoch 62/100\n",
      "404/404 [==============================] - 0s 255us/step - loss: 50.1044 - val_loss: 30.2776\n",
      "Epoch 63/100\n",
      "404/404 [==============================] - 0s 262us/step - loss: 47.0530 - val_loss: 27.7534\n",
      "Epoch 64/100\n",
      "404/404 [==============================] - 0s 258us/step - loss: 47.5585 - val_loss: 21.5376\n",
      "Epoch 65/100\n",
      "404/404 [==============================] - 0s 252us/step - loss: 46.0896 - val_loss: 29.2443\n",
      "Epoch 66/100\n",
      "404/404 [==============================] - 0s 257us/step - loss: 52.8404 - val_loss: 42.8364\n",
      "Epoch 67/100\n",
      "404/404 [==============================] - 0s 254us/step - loss: 46.7296 - val_loss: 52.0502\n",
      "Epoch 68/100\n",
      "404/404 [==============================] - 0s 259us/step - loss: 51.7860 - val_loss: 25.8098\n",
      "Epoch 69/100\n",
      "404/404 [==============================] - 0s 266us/step - loss: 42.8031 - val_loss: 28.4644\n",
      "Epoch 70/100\n",
      "404/404 [==============================] - 0s 260us/step - loss: 49.3443 - val_loss: 21.5849\n",
      "Epoch 71/100\n",
      "404/404 [==============================] - 0s 248us/step - loss: 51.5093 - val_loss: 20.9338\n",
      "Epoch 72/100\n",
      "404/404 [==============================] - 0s 252us/step - loss: 43.5725 - val_loss: 24.6940\n",
      "Epoch 73/100\n",
      "404/404 [==============================] - 0s 249us/step - loss: 49.1548 - val_loss: 35.6529\n",
      "Epoch 74/100\n",
      "404/404 [==============================] - 0s 246us/step - loss: 46.0588 - val_loss: 20.0303\n",
      "Epoch 75/100\n",
      "404/404 [==============================] - 0s 253us/step - loss: 42.2266 - val_loss: 25.0316\n",
      "Epoch 76/100\n",
      "404/404 [==============================] - 0s 255us/step - loss: 45.6434 - val_loss: 27.8315\n",
      "Epoch 77/100\n"
     ]
    },
    {
     "name": "stdout",
     "output_type": "stream",
     "text": [
      "404/404 [==============================] - 0s 247us/step - loss: 42.8928 - val_loss: 28.0347\n",
      "Epoch 78/100\n",
      "404/404 [==============================] - 0s 257us/step - loss: 47.2617 - val_loss: 25.6497\n",
      "Epoch 79/100\n",
      "404/404 [==============================] - 0s 260us/step - loss: 40.9448 - val_loss: 33.8438\n",
      "Epoch 80/100\n",
      "404/404 [==============================] - 0s 252us/step - loss: 44.8540 - val_loss: 22.6675\n",
      "Epoch 81/100\n",
      "404/404 [==============================] - 0s 241us/step - loss: 46.8010 - val_loss: 26.9137\n",
      "Epoch 82/100\n",
      "404/404 [==============================] - 0s 258us/step - loss: 44.9497 - val_loss: 37.2310\n",
      "Epoch 83/100\n",
      "404/404 [==============================] - 0s 260us/step - loss: 48.4557 - val_loss: 23.4083\n",
      "Epoch 84/100\n",
      "404/404 [==============================] - 0s 256us/step - loss: 42.4651 - val_loss: 22.5623\n",
      "Epoch 85/100\n",
      "404/404 [==============================] - 0s 260us/step - loss: 43.4055 - val_loss: 73.2761\n",
      "Epoch 86/100\n",
      "404/404 [==============================] - 0s 250us/step - loss: 49.5091 - val_loss: 72.9852\n",
      "Epoch 87/100\n",
      "404/404 [==============================] - 0s 257us/step - loss: 45.6722 - val_loss: 30.5526\n",
      "Epoch 88/100\n",
      "404/404 [==============================] - 0s 261us/step - loss: 43.5046 - val_loss: 34.2864\n",
      "Epoch 89/100\n",
      "404/404 [==============================] - 0s 266us/step - loss: 54.6039 - val_loss: 39.1730\n",
      "Epoch 90/100\n",
      "404/404 [==============================] - 0s 251us/step - loss: 52.0088 - val_loss: 25.5719\n",
      "Epoch 91/100\n",
      "404/404 [==============================] - 0s 257us/step - loss: 53.8976 - val_loss: 25.0662\n",
      "Epoch 92/100\n",
      "404/404 [==============================] - 0s 249us/step - loss: 47.9938 - val_loss: 34.1774\n",
      "Epoch 93/100\n",
      "404/404 [==============================] - 0s 284us/step - loss: 51.4369 - val_loss: 40.8257\n",
      "Epoch 94/100\n",
      "404/404 [==============================] - 0s 259us/step - loss: 48.1264 - val_loss: 47.7967\n",
      "Epoch 95/100\n",
      "404/404 [==============================] - 0s 267us/step - loss: 58.3159 - val_loss: 30.0854\n",
      "Epoch 96/100\n",
      "404/404 [==============================] - 0s 254us/step - loss: 49.8854 - val_loss: 31.4290\n",
      "Epoch 97/100\n",
      "404/404 [==============================] - 0s 258us/step - loss: 42.5491 - val_loss: 32.8171\n",
      "Epoch 98/100\n",
      "404/404 [==============================] - 0s 262us/step - loss: 44.5263 - val_loss: 30.4351\n",
      "Epoch 99/100\n",
      "404/404 [==============================] - 0s 248us/step - loss: 38.3338 - val_loss: 31.3009\n",
      "Epoch 100/100\n",
      "404/404 [==============================] - 0s 261us/step - loss: 46.3756 - val_loss: 33.6729\n"
     ]
    },
    {
     "data": {
      "text/plain": [
       "<keras.callbacks.History at 0x7fa97cd06518>"
      ]
     },
     "execution_count": 6,
     "metadata": {},
     "output_type": "execute_result"
    }
   ],
   "source": [
    "model.fit(x_train, y_train, batch_size=5, epochs=100, verbose=1, validation_data=(x_valid, y_valid))"
   ]
  },
  {
   "cell_type": "code",
   "execution_count": null,
   "metadata": {},
   "outputs": [],
   "source": []
  }
 ],
 "metadata": {
  "kernelspec": {
   "display_name": "Python 3",
   "language": "python",
   "name": "python3"
  },
  "language_info": {
   "codemirror_mode": {
    "name": "ipython",
    "version": 3
   },
   "file_extension": ".py",
   "mimetype": "text/x-python",
   "name": "python",
   "nbconvert_exporter": "python",
   "pygments_lexer": "ipython3",
   "version": "3.6.5"
  }
 },
 "nbformat": 4,
 "nbformat_minor": 2
}
