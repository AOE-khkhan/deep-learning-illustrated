{
 "cells": [
  {
   "cell_type": "markdown",
   "metadata": {},
   "source": [
    "# Weight Initialization"
   ]
  },
  {
   "cell_type": "markdown",
   "metadata": {},
   "source": [
    "In this notebook, we experiment with weight initialization approaches to examine their impact on layer outputs."
   ]
  },
  {
   "cell_type": "markdown",
   "metadata": {},
   "source": [
    "#### Load dependencies"
   ]
  },
  {
   "cell_type": "code",
   "execution_count": 1,
   "metadata": {},
   "outputs": [
    {
     "name": "stderr",
     "output_type": "stream",
     "text": [
      "Using TensorFlow backend.\n"
     ]
    }
   ],
   "source": [
    "import numpy as np\n",
    "import matplotlib.pyplot as plt\n",
    "\n",
    "from keras import Sequential\n",
    "from keras.layers import Dense, Activation\n",
    "from keras.initializers import Zeros, RandomNormal, glorot_normal, glorot_uniform"
   ]
  },
  {
   "cell_type": "markdown",
   "metadata": {},
   "source": [
    "#### Set number of neurons"
   ]
  },
  {
   "cell_type": "code",
   "execution_count": 2,
   "metadata": {},
   "outputs": [],
   "source": [
    "n_input = 784\n",
    "n_dense = 256"
   ]
  },
  {
   "cell_type": "markdown",
   "metadata": {},
   "source": [
    "#### Select a bias initializer"
   ]
  },
  {
   "cell_type": "code",
   "execution_count": 3,
   "metadata": {},
   "outputs": [],
   "source": [
    "b_init = Zeros()"
   ]
  },
  {
   "cell_type": "markdown",
   "metadata": {},
   "source": [
    "#### Select a weight initializer"
   ]
  },
  {
   "cell_type": "code",
   "execution_count": 4,
   "metadata": {},
   "outputs": [],
   "source": [
    "# w_init = RandomNormal(stddev=1.0)\n",
    "# w_init = glorot_normal()\n",
    "w_init = glorot_uniform()"
   ]
  },
  {
   "cell_type": "markdown",
   "metadata": {},
   "source": [
    "#### Design neural network architecture"
   ]
  },
  {
   "cell_type": "code",
   "execution_count": 5,
   "metadata": {},
   "outputs": [],
   "source": [
    "model = Sequential()\n",
    "model.add(Dense(n_dense, \n",
    "                input_dim=n_input,\n",
    "                kernel_initializer=w_init,\n",
    "                bias_initializer=b_init))\n",
    "model.add(Activation('sigmoid'))"
   ]
  },
  {
   "cell_type": "markdown",
   "metadata": {},
   "source": [
    "#### Generate random *x* values"
   ]
  },
  {
   "cell_type": "code",
   "execution_count": 6,
   "metadata": {},
   "outputs": [],
   "source": [
    "x = np.random.random((1,n_input))"
   ]
  },
  {
   "cell_type": "markdown",
   "metadata": {},
   "source": [
    "#### Forward propagate through the network"
   ]
  },
  {
   "cell_type": "code",
   "execution_count": 7,
   "metadata": {},
   "outputs": [],
   "source": [
    "a = model.predict(x)"
   ]
  },
  {
   "cell_type": "code",
   "execution_count": 8,
   "metadata": {},
   "outputs": [
    {
     "data": {
      "text/plain": [
       "array([[0.67253065, 0.610749  , 0.57301295, 0.24941231, 0.4235538 ,\n",
       "        0.5534548 , 0.5430684 , 0.18005128, 0.752002  , 0.5924559 ,\n",
       "        0.44322363, 0.7303309 , 0.73544294, 0.78791934, 0.37470308,\n",
       "        0.36986938, 0.6803383 , 0.531011  , 0.35742348, 0.26116177,\n",
       "        0.5978733 , 0.2802308 , 0.28372815, 0.2766637 , 0.602364  ,\n",
       "        0.8198298 , 0.494442  , 0.35560754, 0.6745698 , 0.36946058,\n",
       "        0.38230166, 0.641427  , 0.55413455, 0.575623  , 0.58527386,\n",
       "        0.4814352 , 0.3263419 , 0.44230285, 0.49516267, 0.5786098 ,\n",
       "        0.35231715, 0.39381605, 0.4665395 , 0.45565873, 0.44388884,\n",
       "        0.44296533, 0.52654856, 0.17898366, 0.46542004, 0.3799217 ,\n",
       "        0.74213177, 0.5822372 , 0.6194962 , 0.63316244, 0.35607076,\n",
       "        0.35845128, 0.40106577, 0.22012779, 0.69021034, 0.75383854,\n",
       "        0.65878373, 0.51962507, 0.6263841 , 0.68198425, 0.62747467,\n",
       "        0.68987215, 0.5305027 , 0.35612726, 0.62505287, 0.19691741,\n",
       "        0.6915532 , 0.5650357 , 0.63737386, 0.34416768, 0.55110824,\n",
       "        0.644591  , 0.43981153, 0.44839075, 0.26980495, 0.35518473,\n",
       "        0.7920756 , 0.57504416, 0.631147  , 0.6675537 , 0.3608993 ,\n",
       "        0.6956399 , 0.8496949 , 0.4031669 , 0.43063226, 0.49591932,\n",
       "        0.25386605, 0.193267  , 0.74594545, 0.85993755, 0.2437269 ,\n",
       "        0.42519313, 0.58125895, 0.2567572 , 0.4469925 , 0.37796265,\n",
       "        0.56146437, 0.3326851 , 0.3264849 , 0.32974073, 0.6458083 ,\n",
       "        0.5310229 , 0.45603263, 0.6355373 , 0.3299775 , 0.43843457,\n",
       "        0.44816807, 0.71728593, 0.5078575 , 0.5068823 , 0.5720126 ,\n",
       "        0.31656405, 0.68084425, 0.23296276, 0.3419617 , 0.45225176,\n",
       "        0.4086632 , 0.45479622, 0.59196246, 0.7670932 , 0.5678751 ,\n",
       "        0.63350403, 0.11667311, 0.5115304 , 0.6191087 , 0.4614421 ,\n",
       "        0.5606081 , 0.6866674 , 0.51161873, 0.43412393, 0.54312795,\n",
       "        0.39542753, 0.5252438 , 0.6801556 , 0.5742336 , 0.30189145,\n",
       "        0.33736846, 0.66343933, 0.4003646 , 0.33866978, 0.6509805 ,\n",
       "        0.35769522, 0.69227755, 0.5122396 , 0.57663137, 0.75300074,\n",
       "        0.45460662, 0.68947864, 0.4101576 , 0.17756647, 0.69010943,\n",
       "        0.3186685 , 0.6590688 , 0.3991028 , 0.2625138 , 0.33461303,\n",
       "        0.5622758 , 0.50647557, 0.6011884 , 0.39283398, 0.83661413,\n",
       "        0.34703895, 0.75113356, 0.75572836, 0.51013696, 0.4463535 ,\n",
       "        0.51055735, 0.5424534 , 0.86639893, 0.72373646, 0.72787815,\n",
       "        0.49358377, 0.6526709 , 0.67812645, 0.6477292 , 0.5420871 ,\n",
       "        0.41678125, 0.6832217 , 0.58182293, 0.4274017 , 0.5233314 ,\n",
       "        0.7420076 , 0.48525622, 0.6435142 , 0.32745034, 0.73775774,\n",
       "        0.2965089 , 0.5057344 , 0.41905543, 0.23026372, 0.52911425,\n",
       "        0.4815065 , 0.5396849 , 0.33216038, 0.39555863, 0.7660352 ,\n",
       "        0.40035304, 0.794802  , 0.61931103, 0.22310446, 0.25985125,\n",
       "        0.48775214, 0.42258227, 0.4787557 , 0.58701605, 0.5396253 ,\n",
       "        0.6623668 , 0.41288373, 0.50977707, 0.48305863, 0.4855049 ,\n",
       "        0.35260367, 0.63953793, 0.67178994, 0.4914551 , 0.59991735,\n",
       "        0.42221585, 0.5030715 , 0.6397329 , 0.31213257, 0.41438845,\n",
       "        0.54694515, 0.38671893, 0.40082252, 0.45737615, 0.46751216,\n",
       "        0.33047554, 0.52690595, 0.42266956, 0.4838951 , 0.5710315 ,\n",
       "        0.63022023, 0.6108281 , 0.61260587, 0.59537923, 0.62861526,\n",
       "        0.2459141 , 0.4673729 , 0.7463991 , 0.2417746 , 0.43435925,\n",
       "        0.4889476 , 0.4569105 , 0.49312648, 0.75924534, 0.38821587,\n",
       "        0.6776535 , 0.6465689 , 0.64804196, 0.37075913, 0.6264923 ,\n",
       "        0.8256641 ]], dtype=float32)"
      ]
     },
     "execution_count": 8,
     "metadata": {},
     "output_type": "execute_result"
    }
   ],
   "source": [
    "a"
   ]
  },
  {
   "cell_type": "code",
   "execution_count": 9,
   "metadata": {},
   "outputs": [
    {
     "data": {
      "image/png": "[encoded data removed]",
      "text/plain": [
       "<matplotlib.figure.Figure at 0x7f52ef0e6c18>"
      ]
     },
     "metadata": {},
     "output_type": "display_data"
    }
   ],
   "source": [
    "_ = plt.hist(np.transpose(a))"
   ]
  },
  {
   "cell_type": "code",
   "execution_count": null,
   "metadata": {},
   "outputs": [],
   "source": []
  }
 ],
 "metadata": {
  "kernelspec": {
   "display_name": "Python 3",
   "language": "python",
   "name": "python3"
  },
  "language_info": {
   "codemirror_mode": {
    "name": "ipython",
    "version": 3
   },
   "file_extension": ".py",
   "mimetype": "text/x-python",
   "name": "python",
   "nbconvert_exporter": "python",
   "pygments_lexer": "ipython3",
   "version": "3.6.5"
  }
 },
 "nbformat": 4,
 "nbformat_minor": 2
}
