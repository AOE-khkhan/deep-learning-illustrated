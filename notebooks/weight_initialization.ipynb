{
 "cells": [
  {
   "cell_type": "markdown",
   "metadata": {},
   "source": [
    "# Weight Initialization"
   ]
  },
  {
   "cell_type": "markdown",
   "metadata": {},
   "source": [
    "In this notebook, we experiment with weight initialization approaches to examine their impact on layer outputs."
   ]
  },
  {
   "cell_type": "markdown",
   "metadata": {},
   "source": [
    "#### Load dependencies"
   ]
  },
  {
   "cell_type": "code",
   "execution_count": 1,
   "metadata": {},
   "outputs": [
    {
     "name": "stderr",
     "output_type": "stream",
     "text": [
      "Using TensorFlow backend.\n"
     ]
    }
   ],
   "source": [
    "import numpy as np\n",
    "import matplotlib.pyplot as plt\n",
    "\n",
    "from keras import Sequential\n",
    "from keras.layers import Dense, Activation\n",
    "from keras.initializers import Zeros, RandomNormal, glorot_normal, glorot_uniform"
   ]
  },
  {
   "cell_type": "markdown",
   "metadata": {},
   "source": [
    "#### Set number of neurons"
   ]
  },
  {
   "cell_type": "code",
   "execution_count": 2,
   "metadata": {},
   "outputs": [],
   "source": [
    "n_input = 784\n",
    "n_dense = 256"
   ]
  },
  {
   "cell_type": "markdown",
   "metadata": {},
   "source": [
    "#### Select a bias initializer"
   ]
  },
  {
   "cell_type": "code",
   "execution_count": 3,
   "metadata": {},
   "outputs": [],
   "source": [
    "b_init = Zeros()"
   ]
  },
  {
   "cell_type": "markdown",
   "metadata": {},
   "source": [
    "#### Select a weight initializer"
   ]
  },
  {
   "cell_type": "code",
   "execution_count": 4,
   "metadata": {},
   "outputs": [],
   "source": [
    "# w_init = RandomNormal(stddev=1.0)\n",
    "w_init = glorot_normal()\n",
    "# w_init = glorot_uniform()"
   ]
  },
  {
   "cell_type": "markdown",
   "metadata": {},
   "source": [
    "#### Design neural network architecture"
   ]
  },
  {
   "cell_type": "code",
   "execution_count": 5,
   "metadata": {},
   "outputs": [],
   "source": [
    "model = Sequential()\n",
    "model.add(Dense(n_dense, \n",
    "                input_dim=n_input,\n",
    "                kernel_initializer=w_init,\n",
    "                bias_initializer=b_init))\n",
    "model.add(Activation('sigmoid'))\n",
    "model.add(Activation('tanh'))"
   ]
  },
  {
   "cell_type": "markdown",
   "metadata": {},
   "source": [
    "#### Generate random *x* values"
   ]
  },
  {
   "cell_type": "code",
   "execution_count": 6,
   "metadata": {},
   "outputs": [],
   "source": [
    "x = np.random.random((1,n_input))"
   ]
  },
  {
   "cell_type": "markdown",
   "metadata": {},
   "source": [
    "#### Forward propagate through the network"
   ]
  },
  {
   "cell_type": "code",
   "execution_count": 7,
   "metadata": {},
   "outputs": [],
   "source": [
    "a = model.predict(x)"
   ]
  },
  {
   "cell_type": "code",
   "execution_count": 8,
   "metadata": {},
   "outputs": [
    {
     "data": {
      "text/plain": [
       "array([[ 1.10333487e-01,  4.28679496e-01, -1.87706426e-01,\n",
       "         1.22576378e-01,  5.19494951e-01,  6.50270060e-02,\n",
       "         2.74189189e-02, -6.33539081e-01,  4.34063137e-01,\n",
       "         6.90735281e-01,  4.65752810e-01, -2.06910461e-01,\n",
       "        -1.59914806e-01,  9.37944174e-01,  7.68291652e-02,\n",
       "        -8.40554178e-01,  8.72241557e-01,  7.72459626e-01,\n",
       "         1.83900088e-01, -7.86961079e-01,  6.57793701e-01,\n",
       "         6.86808169e-01,  3.33280355e-01,  1.74452946e-01,\n",
       "        -3.22990507e-01, -5.74346371e-02,  1.61730498e-01,\n",
       "        -5.03524132e-02, -2.08828717e-01,  6.01283908e-01,\n",
       "         1.37226686e-01,  1.81075335e-01, -8.83675337e-01,\n",
       "         1.99455768e-01, -3.01926285e-02,  4.65760618e-01,\n",
       "        -4.99472499e-01, -8.17067444e-01, -9.13299680e-01,\n",
       "        -4.90866959e-01, -4.70313355e-02,  7.34496593e-01,\n",
       "         7.08750606e-01, -7.27803946e-01,  1.88911602e-01,\n",
       "         4.38250192e-02, -9.46772873e-01,  8.00643563e-01,\n",
       "        -1.16192788e-01, -7.96919644e-01,  5.41020632e-01,\n",
       "         6.63279176e-01,  2.22552553e-01,  1.58804759e-01,\n",
       "         4.15019169e-02,  9.18263793e-01, -8.52734804e-01,\n",
       "         7.13729501e-01, -6.07087731e-01,  4.66559619e-01,\n",
       "        -6.73708677e-01,  4.57695246e-01, -2.78126001e-01,\n",
       "        -4.40649509e-01,  5.02982378e-01, -6.66736364e-01,\n",
       "        -6.54008508e-01,  4.81413335e-01,  3.02377820e-01,\n",
       "        -7.30551243e-01, -5.60293972e-01, -4.28506583e-01,\n",
       "         6.88476205e-01,  7.52510726e-01, -7.85195678e-02,\n",
       "         3.31412256e-02,  7.49623179e-01,  7.35017797e-03,\n",
       "        -2.60310113e-01, -6.34390116e-01, -3.49318504e-01,\n",
       "        -4.80525315e-01, -4.72973078e-01,  6.01605773e-01,\n",
       "        -6.73596382e-01, -4.76210475e-01, -9.04462218e-01,\n",
       "         7.19707072e-01,  9.58532840e-03, -6.37317181e-01,\n",
       "        -2.88935423e-01,  5.44658244e-01, -3.96197170e-01,\n",
       "        -8.78410399e-01, -3.43990207e-01,  6.03310585e-01,\n",
       "         4.37526524e-01, -4.10598814e-01,  4.17448506e-02,\n",
       "        -9.20334101e-01, -1.02834463e-01, -7.65602708e-01,\n",
       "        -3.24848503e-01,  5.07994652e-01,  1.98333785e-01,\n",
       "        -9.25900340e-01, -6.48657322e-01, -8.67281258e-01,\n",
       "         1.78417712e-01,  6.79175615e-01, -1.51606187e-01,\n",
       "        -6.67224824e-01,  3.65655780e-01, -5.09942770e-01,\n",
       "         5.79112113e-01,  7.86342740e-01, -8.63564491e-01,\n",
       "         3.89537960e-01, -1.94535524e-01,  7.12099791e-01,\n",
       "         6.74837410e-01,  4.35675383e-01, -4.53871429e-01,\n",
       "         4.54137743e-01,  7.86422938e-02,  8.09082270e-01,\n",
       "        -7.28064656e-01,  8.36494803e-01, -3.11755836e-01,\n",
       "        -2.80199885e-01,  7.01714873e-01, -7.48917401e-01,\n",
       "        -2.88009524e-01,  8.16121101e-01,  7.75445759e-01,\n",
       "         1.38781294e-01,  1.05159551e-01, -5.82547307e-01,\n",
       "         1.19091861e-01,  7.35887527e-01,  5.64637065e-01,\n",
       "        -7.64142931e-01,  7.17994392e-01,  4.90842760e-01,\n",
       "         1.92744106e-01,  1.02637939e-01, -7.13762492e-02,\n",
       "         3.11780572e-01,  1.75716504e-01,  3.16363275e-01,\n",
       "        -8.20825756e-01, -5.21151543e-01,  8.72809112e-01,\n",
       "         6.60197675e-01,  8.53691876e-01, -3.48616242e-01,\n",
       "        -5.55592418e-01, -5.40098846e-01,  7.52961695e-01,\n",
       "        -9.98482406e-02, -1.59603879e-02, -5.85872173e-01,\n",
       "         8.64175558e-02, -6.36775136e-01,  3.70190591e-01,\n",
       "        -3.60295713e-01, -9.01544750e-01, -1.86144169e-02,\n",
       "         5.37102163e-01, -7.35268354e-01, -3.56083542e-01,\n",
       "         1.21200204e-01,  6.36698723e-01,  3.44431251e-02,\n",
       "         8.78553629e-01,  1.48671314e-01, -7.04496384e-01,\n",
       "        -8.66892695e-01,  3.77145261e-02,  6.67010427e-01,\n",
       "        -5.73296607e-01, -2.53766999e-02,  4.35385942e-01,\n",
       "         7.01111257e-01, -4.95074749e-01,  7.98785165e-02,\n",
       "         4.40503985e-01,  3.45720768e-01, -8.96083891e-01,\n",
       "        -5.84585726e-01, -4.71660912e-01, -6.32613063e-01,\n",
       "         5.81905484e-01, -2.12279335e-01,  5.49831316e-02,\n",
       "         1.90191697e-02,  1.78304315e-01,  4.55521457e-02,\n",
       "        -5.59463680e-01,  2.60069472e-04, -5.02781272e-01,\n",
       "         1.62099898e-01, -2.26066634e-01,  7.16473937e-01,\n",
       "        -4.73558098e-01,  3.24976295e-01,  4.04579520e-01,\n",
       "        -4.60420072e-01,  8.91135395e-01,  6.61361873e-01,\n",
       "        -4.64822441e-01, -5.65333307e-01,  4.19904023e-01,\n",
       "        -5.49149215e-01, -9.10100579e-01,  3.77177179e-01,\n",
       "        -6.47965014e-01,  2.91598022e-01, -5.05565386e-03,\n",
       "        -9.53067169e-02,  7.18642533e-01, -3.30824435e-01,\n",
       "        -3.81012201e-01, -7.52738595e-01, -3.22618559e-02,\n",
       "        -5.33040226e-01, -2.29873031e-01, -4.71446723e-01,\n",
       "        -8.52789402e-01, -6.49226308e-01, -4.09197062e-02,\n",
       "        -3.64115775e-01,  5.41786775e-02, -8.97949040e-01,\n",
       "         4.92255777e-01,  4.34116349e-02,  6.96141779e-01,\n",
       "         4.10020262e-01, -6.90659404e-01, -2.91074783e-01,\n",
       "        -6.09637141e-01, -8.39502871e-01,  7.92793259e-02,\n",
       "         1.51847480e-02, -3.86391699e-01, -6.69057608e-01,\n",
       "        -5.78135252e-01, -9.61370826e-01,  8.38387072e-01,\n",
       "        -5.18363059e-01, -6.39043093e-01,  5.41474462e-01,\n",
       "        -5.77153802e-01, -9.65015352e-01,  6.91428006e-01,\n",
       "        -2.63043363e-02]], dtype=float32)"
      ]
     },
     "execution_count": 8,
     "metadata": {},
     "output_type": "execute_result"
    }
   ],
   "source": [
    "a"
   ]
  },
  {
   "cell_type": "code",
   "execution_count": 9,
   "metadata": {},
   "outputs": [
    {
     "data": {
      "image/png": "[encoded data removed]",
      "text/plain": [
       "<matplotlib.figure.Figure at 0x7f532018fb00>"
      ]
     },
     "metadata": {},
     "output_type": "display_data"
    }
   ],
   "source": [
    "_ = plt.hist(np.transpose(a))"
   ]
  },
  {
   "cell_type": "code",
   "execution_count": null,
   "metadata": {},
   "outputs": [],
   "source": []
  }
 ],
 "metadata": {
  "kernelspec": {
   "display_name": "Python 3",
   "language": "python",
   "name": "python3"
  },
  "language_info": {
   "codemirror_mode": {
    "name": "ipython",
    "version": 3
   },
   "file_extension": ".py",
   "mimetype": "text/x-python",
   "name": "python",
   "nbconvert_exporter": "python",
   "pygments_lexer": "ipython3",
   "version": "3.6.5"
  }
 },
 "nbformat": 4,
 "nbformat_minor": 2
}
